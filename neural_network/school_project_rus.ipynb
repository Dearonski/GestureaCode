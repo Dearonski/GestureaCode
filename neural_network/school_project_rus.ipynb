{
 "cells": [
  {
   "attachments": {},
   "cell_type": "markdown",
   "metadata": {},
   "source": [
    "Импорт библиотек"
   ]
  },
  {
   "cell_type": "code",
   "execution_count": null,
   "metadata": {},
   "outputs": [],
   "source": [
    "import os\n",
    "from tqdm.notebook import tqdm, trange\n",
    "\n",
    "import torch\n",
    "import torch.nn as nn\n",
    "import torch.optim as optim\n",
    "from torch.optim import lr_scheduler\n",
    "\n",
    "import numpy as np\n",
    "import torchvision\n",
    "from torchvision import datasets, models, transforms\n",
    "import matplotlib.pyplot as plt\n",
    "import time\n",
    "\n",
    "from PIL import Image\n",
    "\n",
    "import seaborn as sns"
   ]
  },
  {
   "attachments": {},
   "cell_type": "markdown",
   "metadata": {},
   "source": [
    "Подготовка"
   ]
  },
  {
   "cell_type": "code",
   "execution_count": null,
   "metadata": {},
   "outputs": [],
   "source": [
    "torch.cuda.is_available()"
   ]
  },
  {
   "cell_type": "code",
   "execution_count": null,
   "metadata": {},
   "outputs": [],
   "source": [
    "torch.cuda.empty_cache()"
   ]
  },
  {
   "cell_type": "code",
   "execution_count": null,
   "metadata": {},
   "outputs": [],
   "source": [
    "class_names = ['a', 'b', 'v', 'g', 'd', 'e', 'zh', 'z', 'i', 'k', 'l', 'm', 'n', 'o', 'p', 'r', 's', 't', 'u', 'f', 'h', 'c', 'ch', 'sh', 'shya', 'aie', 'znak', 'ae', 'you', 'ya']"
   ]
  },
  {
   "cell_type": "code",
   "execution_count": null,
   "metadata": {},
   "outputs": [],
   "source": [
    "class_names_rus = ['а', 'б', 'в', 'г', 'д', 'е', 'ж', 'з', 'и', 'к', 'л', 'м', 'н', 'о', 'п', 'р', 'с', 'т', 'у', 'ф', 'х', 'ц', 'ч', 'ш', 'щ', 'ы', 'ь', 'э', 'ю', 'я']"
   ]
  },
  {
   "attachments": {},
   "cell_type": "markdown",
   "metadata": {},
   "source": [
    "Датасет"
   ]
  },
  {
   "cell_type": "code",
   "execution_count": null,
   "metadata": {},
   "outputs": [],
   "source": [
    "data_transforms = {\n",
    "    'train': transforms.Compose([\n",
    "        transforms.Resize(244),\n",
    "        transforms.CenterCrop(244),\n",
    "        transforms.ToTensor()\n",
    "    ]),\n",
    "    'val': transforms.Compose([\n",
    "        transforms.Resize(244),\n",
    "        transforms.CenterCrop(244),\n",
    "        transforms.ToTensor()\n",
    "    ]),\n",
    "}\n",
    "\n",
    "data_dir = './letters_full'\n",
    "img_datasets = {x: datasets.ImageFolder(os.path.join(data_dir, x), data_transforms[x])\n",
    "                for x in ['train', 'val']}\n",
    "\n",
    "dataloaders = {x: torch.utils.data.DataLoader(img_datasets[x], batch_size=4, shuffle=True, num_workers=2)\n",
    "                for x in ['train', 'val']}\n",
    "dataset_sizes = {x: len(img_datasets[x]) for x in ['train', 'val']}\n",
    "class_names = img_datasets['train'].classes\n",
    "\n",
    "use_gpu = torch.cuda.is_available()"
   ]
  },
  {
   "cell_type": "code",
   "execution_count": null,
   "metadata": {},
   "outputs": [],
   "source": [
    "len(class_names), dataset_sizes"
   ]
  },
  {
   "cell_type": "code",
   "execution_count": null,
   "metadata": {},
   "outputs": [],
   "source": [
    "next(iter(dataloaders['train']))[0].size()"
   ]
  },
  {
   "cell_type": "code",
   "execution_count": null,
   "metadata": {},
   "outputs": [],
   "source": [
    "def imshow(inp, title=None):\n",
    "    \"\"\"Imshow for Tensor.\"\"\"\n",
    "    inp = inp.numpy().transpose((1, 2, 0))\n",
    "    \n",
    "    inp = np.clip(inp, 0, 1)\n",
    "    plt.figure(figsize=(15, 12))\n",
    "    plt.imshow(inp)\n",
    "    if title is not None:\n",
    "        plt.title(title)\n",
    "    plt.pause(0.001)\n",
    "\n",
    "\n",
    "# Получим 1 батч (картнки-метки) из обучающей выборки\n",
    "inputs, classes = next(iter(dataloaders['val']))\n",
    "\n",
    "# Расположим картинки рядом\n",
    "out = torchvision.utils.make_grid(inputs)\n",
    "\n",
    "imshow(out, title=[class_names[x] for x in classes])"
   ]
  },
  {
   "attachments": {},
   "cell_type": "markdown",
   "metadata": {},
   "source": [
    "Код обучения и валидации"
   ]
  },
  {
   "cell_type": "code",
   "execution_count": null,
   "metadata": {},
   "outputs": [],
   "source": [
    "def train_model(model, criterion, optimizer, scheduler, num_epochs=25):\n",
    "    since = time.time()\n",
    "\n",
    "    best_model_wts = model.state_dict()\n",
    "    best_acc = 0.0\n",
    "    # ведение статистики\n",
    "    losses = {'train': [], 'val': []}\n",
    "    accuracies = {'train': [], 'val': []}\n",
    "    pbar = trange(num_epochs, desc='Epoch:')\n",
    "\n",
    "    for epoch in pbar:\n",
    "\n",
    "        # проверка стадии обучения (train/val)\n",
    "        for phase in ['train', 'val']:\n",
    "            if phase == 'train':\n",
    "                scheduler.step()\n",
    "                model.train(True)\n",
    "            else:\n",
    "                model.eval()\n",
    "\n",
    "            running_loss = 0.0\n",
    "            running_corrects = 0\n",
    "\n",
    "            \n",
    "            for data in tqdm(dataloaders[phase], leave=False, desc=f'{phase} iter:'):\n",
    "\n",
    "                inputs, labels = data\n",
    "\n",
    "                # передача данных на GPU при возможности\n",
    "                if use_gpu:\n",
    "                    inputs = inputs.cuda()\n",
    "                    labels = labels.cuda()\n",
    "                else:\n",
    "                    inputs, labels = inputs, labels\n",
    "\n",
    "                if phase == 'train':\n",
    "                    optimizer.zero_grad()\n",
    "\n",
    "                if phase == 'eval':\n",
    "                    with torch.no_grad():\n",
    "                        outputs = model(inputs)\n",
    "                else:\n",
    "                    outputs = model(inputs)\n",
    "                preds = torch.argmax(outputs, -1)\n",
    "                loss = criterion(outputs, labels)\n",
    "                if phase == 'train':\n",
    "                    loss.backward()\n",
    "                    optimizer.step()\n",
    "\n",
    "                # обновление статистики\n",
    "                running_loss += loss.item()\n",
    "                running_corrects += int(torch.sum(preds == labels.data))\n",
    "\n",
    "            epoch_loss = running_loss / dataset_sizes[phase]\n",
    "            epoch_acc = running_corrects / dataset_sizes[phase]\n",
    "            \n",
    "            losses[phase].append(epoch_loss)\n",
    "            accuracies[phase].append(epoch_acc)\n",
    "            pbar.set_description('{} Loss: {:.4f} Acc: {:.4f}'.format(\n",
    "                                    phase, epoch_loss, epoch_acc\n",
    "                                ))\n",
    "\n",
    "            # сохранение весов, давших лучшее качество\n",
    "            if phase == 'val' and epoch_acc > best_acc:\n",
    "                best_acc = epoch_acc\n",
    "                best_model_wts = model.state_dict()\n",
    "                torch.save(model.state_dict(), 'stdict')\n",
    "\n",
    "    # вывод прогресса обучения\n",
    "    time_elapsed = time.time() - since\n",
    "    print('Training complete in {:.0f}m {:.0f}s'.format(\n",
    "        time_elapsed // 60, time_elapsed % 60))\n",
    "    print('Best val Acc: {:4f}'.format(best_acc))\n",
    "\n",
    "    # загрузка весов\n",
    "    model.load_state_dict(best_model_wts)\n",
    "    return model, losses, accuracies"
   ]
  },
  {
   "cell_type": "code",
   "execution_count": null,
   "metadata": {},
   "outputs": [],
   "source": [
    "def evaluate(model):\n",
    "    model.eval()\n",
    "    \n",
    "    runninig_correct = 0\n",
    "    for data in dataloaders['val']:\n",
    "        inputs, labels = data\n",
    "        \n",
    "        if use_gpu:\n",
    "            inputs = inputs.cuda()\n",
    "            labels = labels.cuda()\n",
    "            \n",
    "        output = model(inputs)\n",
    "        _, predicted = torch.max(output, 1)\n",
    "        \n",
    "        runninig_correct += int(torch.sum(predicted == labels))\n",
    "        \n",
    "    return runninig_correct / dataset_sizes['val']"
   ]
  },
  {
   "attachments": {},
   "cell_type": "markdown",
   "metadata": {},
   "source": [
    "VGG16"
   ]
  },
  {
   "cell_type": "code",
   "execution_count": null,
   "metadata": {},
   "outputs": [],
   "source": [
    "model_extractor = models.vgg16(weights='VGG16_Weights.IMAGENET1K_V1')"
   ]
  },
  {
   "cell_type": "code",
   "execution_count": null,
   "metadata": {},
   "outputs": [],
   "source": [
    "model_extractor"
   ]
  },
  {
   "cell_type": "code",
   "execution_count": null,
   "metadata": {},
   "outputs": [],
   "source": [
    "# transfer learning\n",
    "for param in model_extractor.parameters():\n",
    "    param.requires_grad = False\n",
    "\n",
    "num_features = 25088\n",
    "# нейронная сеть (classifier)\n",
    "model_extractor.classifier = nn.Sequential(\n",
    "    nn.Linear(num_features, 868),\n",
    "    nn.BatchNorm1d(num_features=868),\n",
    "    nn.ReLU(),\n",
    "    nn.Linear(868, 30)\n",
    ")\n",
    "\n",
    "if use_gpu:\n",
    "    model_extractor = model_extractor.cuda()\n",
    "\n",
    "# выбор функции потерь и оптимизатора\n",
    "loss_fn = nn.CrossEntropyLoss()\n",
    "optimizer = optim.Adam(model_extractor.classifier.parameters(), lr=1e-3)\n",
    "\n",
    "exp_lr_scheduler = lr_scheduler.StepLR(optimizer, step_size=3, gamma=0.1)"
   ]
  },
  {
   "cell_type": "code",
   "execution_count": null,
   "metadata": {},
   "outputs": [],
   "source": [
    "# обучение\n",
    "model_extractor, losses, accuracies = train_model(model_extractor, loss_fn, optimizer, exp_lr_scheduler, num_epochs=25)"
   ]
  },
  {
   "attachments": {},
   "cell_type": "markdown",
   "metadata": {},
   "source": [
    "Графики обучения"
   ]
  },
  {
   "cell_type": "code",
   "execution_count": null,
   "metadata": {},
   "outputs": [],
   "source": [
    "sns.set(style=\"whitegrid\", font_scale=1.4)\n",
    "\n",
    "plt.figure(figsize=(12, 8))\n",
    "plt.plot(losses['train'], label=\"train\")\n",
    "plt.plot(losses['val'], label=\"validation\")\n",
    "plt.title('Loss')\n",
    "plt.legend()\n",
    "plt.show()"
   ]
  },
  {
   "cell_type": "code",
   "execution_count": null,
   "metadata": {},
   "outputs": [],
   "source": [
    "sns.set(style=\"whitegrid\", font_scale=1.4)\n",
    "\n",
    "plt.figure(figsize=(12, 8))\n",
    "plt.plot(accuracies['train'], label=\"train\")\n",
    "plt.plot(accuracies['val'], label=\"validation\")\n",
    "plt.title('Accuracy')\n",
    "plt.legend()\n",
    "plt.show()"
   ]
  },
  {
   "cell_type": "code",
   "execution_count": null,
   "metadata": {},
   "outputs": [],
   "source": [
    "model_extractor.load_state_dict(torch.load('stdict'))\n",
    "model_extractor.eval()\n",
    "print(f\"Accuracy: {evaluate(model_extractor)}\")"
   ]
  },
  {
   "cell_type": "code",
   "execution_count": null,
   "metadata": {},
   "outputs": [],
   "source": [
    "torch.save(model_extractor, 'new_dataset1_v7.2.pth')"
   ]
  },
  {
   "attachments": {},
   "cell_type": "markdown",
   "metadata": {},
   "source": [
    "Проверка"
   ]
  },
  {
   "cell_type": "code",
   "execution_count": null,
   "metadata": {},
   "outputs": [],
   "source": [
    "img_transforms = transforms.Compose([\n",
    "        transforms.Resize(244),\n",
    "        transforms.CenterCrop(244),\n",
    "        transforms.ToTensor()\n",
    "    ])\n",
    "img =  Image.open(r\"./letters_for_hand_check/_1011.png\")\n",
    "img_transformed = img_transforms(img)\n",
    "img_transformed = img_transformed.to(torch.device('cuda'))"
   ]
  },
  {
   "cell_type": "code",
   "execution_count": null,
   "metadata": {},
   "outputs": [],
   "source": [
    "model = torch.load('new_dataset1_v7.2.pth', map_location=torch.device('cuda'))\n",
    "model.eval()"
   ]
  },
  {
   "cell_type": "code",
   "execution_count": null,
   "metadata": {},
   "outputs": [],
   "source": [
    "img_transformed = torch.stack([img_transformed, img_transformed, img_transformed, img_transformed])\n",
    "outp = torch.argmax(model(img_transformed))\n",
    "print(class_names[outp], outp)"
   ]
  },
  {
   "cell_type": "markdown",
   "metadata": {},
   "source": [
    "Точность по классам"
   ]
  },
  {
   "cell_type": "code",
   "execution_count": null,
   "metadata": {},
   "outputs": [],
   "source": [
    "img_transforms = transforms.Compose([\n",
    "        transforms.Resize(244),\n",
    "        transforms.CenterCrop(244),\n",
    "        transforms.ToTensor()\n",
    "    ])\n",
    "\n",
    "model = torch.load('new_dataset1_v7.2.pth', map_location=torch.device('cpu'))\n",
    "model.eval()\n",
    "\n",
    "accuracies = []\n",
    "wrongs = []\n",
    "outp_wrongs = []\n",
    "\n",
    "\n",
    "for i in range(30):\n",
    "    corrects = 0\n",
    "    for j in range(1, 11):\n",
    "        img =  Image.open(fr'./letters_accuracy_by_class/{i + 1}/{class_names[i]} ({j}).png')\n",
    "        img_transformed = img_transforms(img)\n",
    "        img_transformed = img_transformed\n",
    "        img_transformed = torch.stack([img_transformed, img_transformed, img_transformed, img_transformed])\n",
    "        outp = torch.argmax(model(img_transformed))\n",
    "        if class_names[outp] == class_names[i]:\n",
    "            corrects += 1\n",
    "        else:\n",
    "            wrongs.append(fr'{class_names[i]}({j}).png')\n",
    "            outp_wrongs.append(class_names[outp])\n",
    "    else:\n",
    "        accuracies.append(corrects / 10)\n",
    "print('Accuracies of model v7.2 (with val accuracy 0.968):')\n",
    "for i in range(30):\n",
    "    print(f'{class_names[i]}: {accuracies[i]}')\n",
    "print(len(wrongs))\n",
    "for i in range(len(wrongs)):\n",
    "    print(f'file: {wrongs[i]}, output: {outp_wrongs[i]}')"
   ]
  }
 ],
 "metadata": {
  "kernelspec": {
   "display_name": "Python 3",
   "language": "python",
   "name": "python3"
  },
  "language_info": {
   "codemirror_mode": {
    "name": "ipython",
    "version": 3
   },
   "file_extension": ".py",
   "mimetype": "text/x-python",
   "name": "python",
   "nbconvert_exporter": "python",
   "pygments_lexer": "ipython3",
   "version": "3.8.0"
  },
  "orig_nbformat": 4,
  "vscode": {
   "interpreter": {
    "hash": "6a4ea7a8e31ad2de89df6b0dd138f186aef95f268ea81f2bb376b3bcf120fe8e"
   }
  }
 },
 "nbformat": 4,
 "nbformat_minor": 2
}
